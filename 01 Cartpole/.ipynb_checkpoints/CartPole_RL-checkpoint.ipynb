{
 "cells": [
  {
   "cell_type": "markdown",
   "id": "prostate-silence",
   "metadata": {},
   "source": [
    "# Project 01  - CarPole in Open AI\n",
    "## [Tutorial]\n",
    "https://www.youtube.com/watch?v=cO5g5qLrLSo&t=804s"
   ]
  },
  {
   "cell_type": "markdown",
   "id": "swedish-haiti",
   "metadata": {},
   "source": [
    "# 0. Install Dependencies"
   ]
  },
  {
   "cell_type": "code",
   "execution_count": 1,
   "id": "worse-knitting",
   "metadata": {},
   "outputs": [
    {
     "name": "stdout",
     "output_type": "stream",
     "text": [
      "Requirement already satisfied: tensorflow==2.3.0 in c:\\users\\hilbert ng\\appdata\\roaming\\python\\python37\\site-packages (2.3.0)\n",
      "Requirement already satisfied: h5py<2.11.0,>=2.10.0 in c:\\programdata\\anaconda3\\lib\\site-packages (from tensorflow==2.3.0) (2.10.0)\n",
      "Requirement already satisfied: wrapt>=1.11.1 in c:\\programdata\\anaconda3\\lib\\site-packages (from tensorflow==2.3.0) (1.12.1)\n",
      "Requirement already satisfied: keras-preprocessing<1.2,>=1.1.1 in c:\\programdata\\anaconda3\\lib\\site-packages (from tensorflow==2.3.0) (1.1.2)\n",
      "Requirement already satisfied: wheel>=0.26 in c:\\programdata\\anaconda3\\lib\\site-packages (from tensorflow==2.3.0) (0.36.2)\n",
      "Requirement already satisfied: grpcio>=1.8.6 in c:\\programdata\\anaconda3\\lib\\site-packages (from tensorflow==2.3.0) (1.32.0)\n",
      "Requirement already satisfied: absl-py>=0.7.0 in c:\\programdata\\anaconda3\\lib\\site-packages (from tensorflow==2.3.0) (0.12.0)\n",
      "Requirement already satisfied: tensorboard<3,>=2.3.0 in c:\\programdata\\anaconda3\\lib\\site-packages (from tensorflow==2.3.0) (2.4.1)\n",
      "Requirement already satisfied: google-pasta>=0.1.8 in c:\\programdata\\anaconda3\\lib\\site-packages (from tensorflow==2.3.0) (0.2.0)\n",
      "Requirement already satisfied: opt-einsum>=2.3.2 in c:\\programdata\\anaconda3\\lib\\site-packages (from tensorflow==2.3.0) (3.3.0)\n",
      "Requirement already satisfied: numpy<1.19.0,>=1.16.0 in c:\\users\\hilbert ng\\appdata\\roaming\\python\\python37\\site-packages (from tensorflow==2.3.0) (1.18.5)\n",
      "Requirement already satisfied: six>=1.12.0 in c:\\users\\hilbert ng\\appdata\\roaming\\python\\python37\\site-packages (from tensorflow==2.3.0) (1.15.0)\n",
      "Requirement already satisfied: termcolor>=1.1.0 in c:\\programdata\\anaconda3\\lib\\site-packages (from tensorflow==2.3.0) (1.1.0)\n",
      "Requirement already satisfied: gast==0.3.3 in c:\\programdata\\anaconda3\\lib\\site-packages (from tensorflow==2.3.0) (0.3.3)\n",
      "Requirement already satisfied: scipy==1.4.1 in c:\\users\\hilbert ng\\appdata\\roaming\\python\\python37\\site-packages (from tensorflow==2.3.0) (1.4.1)\n",
      "Requirement already satisfied: protobuf>=3.9.2 in c:\\programdata\\anaconda3\\lib\\site-packages (from tensorflow==2.3.0) (3.15.6)\n",
      "Requirement already satisfied: tensorflow-estimator<2.4.0,>=2.3.0 in c:\\users\\hilbert ng\\appdata\\roaming\\python\\python37\\site-packages (from tensorflow==2.3.0) (2.3.0)\n",
      "Requirement already satisfied: astunparse==1.6.3 in c:\\programdata\\anaconda3\\lib\\site-packages (from tensorflow==2.3.0) (1.6.3)\n",
      "Requirement already satisfied: werkzeug>=0.11.15 in c:\\programdata\\anaconda3\\lib\\site-packages (from tensorboard<3,>=2.3.0->tensorflow==2.3.0) (1.0.1)\n",
      "Requirement already satisfied: markdown>=2.6.8 in c:\\programdata\\anaconda3\\lib\\site-packages (from tensorboard<3,>=2.3.0->tensorflow==2.3.0) (3.3.4)\n",
      "Requirement already satisfied: setuptools>=41.0.0 in c:\\programdata\\anaconda3\\lib\\site-packages (from tensorboard<3,>=2.3.0->tensorflow==2.3.0) (52.0.0.post20210125)\n",
      "Requirement already satisfied: tensorboard-plugin-wit>=1.6.0 in c:\\programdata\\anaconda3\\lib\\site-packages (from tensorboard<3,>=2.3.0->tensorflow==2.3.0) (1.8.0)\n",
      "Requirement already satisfied: google-auth<2,>=1.6.3 in c:\\programdata\\anaconda3\\lib\\site-packages (from tensorboard<3,>=2.3.0->tensorflow==2.3.0) (1.28.0)\n",
      "Requirement already satisfied: google-auth-oauthlib<0.5,>=0.4.1 in c:\\programdata\\anaconda3\\lib\\site-packages (from tensorboard<3,>=2.3.0->tensorflow==2.3.0) (0.4.3)\n",
      "Requirement already satisfied: requests<3,>=2.21.0 in c:\\programdata\\anaconda3\\lib\\site-packages (from tensorboard<3,>=2.3.0->tensorflow==2.3.0) (2.25.1)\n",
      "Requirement already satisfied: pyasn1-modules>=0.2.1 in c:\\programdata\\anaconda3\\lib\\site-packages (from google-auth<2,>=1.6.3->tensorboard<3,>=2.3.0->tensorflow==2.3.0) (0.2.8)\n",
      "Requirement already satisfied: cachetools<5.0,>=2.0.0 in c:\\programdata\\anaconda3\\lib\\site-packages (from google-auth<2,>=1.6.3->tensorboard<3,>=2.3.0->tensorflow==2.3.0) (4.2.1)\n",
      "Requirement already satisfied: rsa<5,>=3.1.4 in c:\\programdata\\anaconda3\\lib\\site-packages (from google-auth<2,>=1.6.3->tensorboard<3,>=2.3.0->tensorflow==2.3.0) (4.7.2)\n",
      "Requirement already satisfied: requests-oauthlib>=0.7.0 in c:\\programdata\\anaconda3\\lib\\site-packages (from google-auth-oauthlib<0.5,>=0.4.1->tensorboard<3,>=2.3.0->tensorflow==2.3.0) (1.3.0)\n",
      "Requirement already satisfied: importlib-metadata in c:\\programdata\\anaconda3\\lib\\site-packages (from markdown>=2.6.8->tensorboard<3,>=2.3.0->tensorflow==2.3.0) (3.7.3)\n",
      "Requirement already satisfied: pyasn1<0.5.0,>=0.4.6 in c:\\programdata\\anaconda3\\lib\\site-packages (from pyasn1-modules>=0.2.1->google-auth<2,>=1.6.3->tensorboard<3,>=2.3.0->tensorflow==2.3.0) (0.4.8)\n",
      "Requirement already satisfied: certifi>=2017.4.17 in c:\\programdata\\anaconda3\\lib\\site-packages (from requests<3,>=2.21.0->tensorboard<3,>=2.3.0->tensorflow==2.3.0) (2020.12.5)\n",
      "Requirement already satisfied: chardet<5,>=3.0.2 in c:\\programdata\\anaconda3\\lib\\site-packages (from requests<3,>=2.21.0->tensorboard<3,>=2.3.0->tensorflow==2.3.0) (4.0.0)\n",
      "Requirement already satisfied: urllib3<1.27,>=1.21.1 in c:\\programdata\\anaconda3\\lib\\site-packages (from requests<3,>=2.21.0->tensorboard<3,>=2.3.0->tensorflow==2.3.0) (1.26.4)\n",
      "Requirement already satisfied: idna<3,>=2.5 in c:\\programdata\\anaconda3\\lib\\site-packages (from requests<3,>=2.21.0->tensorboard<3,>=2.3.0->tensorflow==2.3.0) (2.10)\n",
      "Requirement already satisfied: oauthlib>=3.0.0 in c:\\programdata\\anaconda3\\lib\\site-packages (from requests-oauthlib>=0.7.0->google-auth-oauthlib<0.5,>=0.4.1->tensorboard<3,>=2.3.0->tensorflow==2.3.0) (3.1.0)\n",
      "Requirement already satisfied: zipp>=0.5 in c:\\programdata\\anaconda3\\lib\\site-packages (from importlib-metadata->markdown>=2.6.8->tensorboard<3,>=2.3.0->tensorflow==2.3.0) (3.4.1)\n",
      "Requirement already satisfied: typing-extensions>=3.6.4 in c:\\programdata\\anaconda3\\lib\\site-packages (from importlib-metadata->markdown>=2.6.8->tensorboard<3,>=2.3.0->tensorflow==2.3.0) (3.7.4.3)\n",
      "Requirement already satisfied: gym in c:\\programdata\\anaconda3\\lib\\site-packages (0.18.3)\n",
      "Requirement already satisfied: Pillow<=8.2.0 in c:\\users\\hilbert ng\\appdata\\roaming\\python\\python37\\site-packages (from gym) (8.1.2)\n",
      "Requirement already satisfied: scipy in c:\\users\\hilbert ng\\appdata\\roaming\\python\\python37\\site-packages (from gym) (1.4.1)\n",
      "Requirement already satisfied: pyglet<=1.5.15,>=1.4.0 in c:\\programdata\\anaconda3\\lib\\site-packages (from gym) (1.5.15)\n",
      "Requirement already satisfied: numpy>=1.10.4 in c:\\users\\hilbert ng\\appdata\\roaming\\python\\python37\\site-packages (from gym) (1.18.5)\n",
      "Requirement already satisfied: cloudpickle<1.7.0,>=1.2.0 in c:\\programdata\\anaconda3\\lib\\site-packages (from gym) (1.6.0)\n",
      "Requirement already satisfied: keras in c:\\programdata\\anaconda3\\lib\\site-packages (2.7.0)\n",
      "Requirement already satisfied: keras-rl2 in c:\\programdata\\anaconda3\\lib\\site-packages (1.0.5)\n",
      "Requirement already satisfied: tensorflow in c:\\users\\hilbert ng\\appdata\\roaming\\python\\python37\\site-packages (from keras-rl2) (2.3.0)\n",
      "Requirement already satisfied: numpy<1.19.0,>=1.16.0 in c:\\users\\hilbert ng\\appdata\\roaming\\python\\python37\\site-packages (from tensorflow->keras-rl2) (1.18.5)\n",
      "Requirement already satisfied: gast==0.3.3 in c:\\programdata\\anaconda3\\lib\\site-packages (from tensorflow->keras-rl2) (0.3.3)\n",
      "Requirement already satisfied: wheel>=0.26 in c:\\programdata\\anaconda3\\lib\\site-packages (from tensorflow->keras-rl2) (0.36.2)\n",
      "Requirement already satisfied: keras-preprocessing<1.2,>=1.1.1 in c:\\programdata\\anaconda3\\lib\\site-packages (from tensorflow->keras-rl2) (1.1.2)\n",
      "Requirement already satisfied: opt-einsum>=2.3.2 in c:\\programdata\\anaconda3\\lib\\site-packages (from tensorflow->keras-rl2) (3.3.0)\n",
      "Requirement already satisfied: wrapt>=1.11.1 in c:\\programdata\\anaconda3\\lib\\site-packages (from tensorflow->keras-rl2) (1.12.1)\n",
      "Requirement already satisfied: scipy==1.4.1 in c:\\users\\hilbert ng\\appdata\\roaming\\python\\python37\\site-packages (from tensorflow->keras-rl2) (1.4.1)\n",
      "Requirement already satisfied: six>=1.12.0 in c:\\users\\hilbert ng\\appdata\\roaming\\python\\python37\\site-packages (from tensorflow->keras-rl2) (1.15.0)\n",
      "Requirement already satisfied: absl-py>=0.7.0 in c:\\programdata\\anaconda3\\lib\\site-packages (from tensorflow->keras-rl2) (0.12.0)\n",
      "Requirement already satisfied: protobuf>=3.9.2 in c:\\programdata\\anaconda3\\lib\\site-packages (from tensorflow->keras-rl2) (3.15.6)\n",
      "Requirement already satisfied: grpcio>=1.8.6 in c:\\programdata\\anaconda3\\lib\\site-packages (from tensorflow->keras-rl2) (1.32.0)\n",
      "Requirement already satisfied: termcolor>=1.1.0 in c:\\programdata\\anaconda3\\lib\\site-packages (from tensorflow->keras-rl2) (1.1.0)\n",
      "Requirement already satisfied: h5py<2.11.0,>=2.10.0 in c:\\programdata\\anaconda3\\lib\\site-packages (from tensorflow->keras-rl2) (2.10.0)\n",
      "Requirement already satisfied: astunparse==1.6.3 in c:\\programdata\\anaconda3\\lib\\site-packages (from tensorflow->keras-rl2) (1.6.3)\n",
      "Requirement already satisfied: tensorflow-estimator<2.4.0,>=2.3.0 in c:\\users\\hilbert ng\\appdata\\roaming\\python\\python37\\site-packages (from tensorflow->keras-rl2) (2.3.0)\n",
      "Requirement already satisfied: tensorboard<3,>=2.3.0 in c:\\programdata\\anaconda3\\lib\\site-packages (from tensorflow->keras-rl2) (2.4.1)\n",
      "Requirement already satisfied: google-pasta>=0.1.8 in c:\\programdata\\anaconda3\\lib\\site-packages (from tensorflow->keras-rl2) (0.2.0)\n",
      "Requirement already satisfied: setuptools>=41.0.0 in c:\\programdata\\anaconda3\\lib\\site-packages (from tensorboard<3,>=2.3.0->tensorflow->keras-rl2) (52.0.0.post20210125)\n",
      "Requirement already satisfied: requests<3,>=2.21.0 in c:\\programdata\\anaconda3\\lib\\site-packages (from tensorboard<3,>=2.3.0->tensorflow->keras-rl2) (2.25.1)\n",
      "Requirement already satisfied: tensorboard-plugin-wit>=1.6.0 in c:\\programdata\\anaconda3\\lib\\site-packages (from tensorboard<3,>=2.3.0->tensorflow->keras-rl2) (1.8.0)\n",
      "Requirement already satisfied: werkzeug>=0.11.15 in c:\\programdata\\anaconda3\\lib\\site-packages (from tensorboard<3,>=2.3.0->tensorflow->keras-rl2) (1.0.1)\n",
      "Requirement already satisfied: google-auth<2,>=1.6.3 in c:\\programdata\\anaconda3\\lib\\site-packages (from tensorboard<3,>=2.3.0->tensorflow->keras-rl2) (1.28.0)\n",
      "Requirement already satisfied: google-auth-oauthlib<0.5,>=0.4.1 in c:\\programdata\\anaconda3\\lib\\site-packages (from tensorboard<3,>=2.3.0->tensorflow->keras-rl2) (0.4.3)\n",
      "Requirement already satisfied: markdown>=2.6.8 in c:\\programdata\\anaconda3\\lib\\site-packages (from tensorboard<3,>=2.3.0->tensorflow->keras-rl2) (3.3.4)\n",
      "Requirement already satisfied: rsa<5,>=3.1.4 in c:\\programdata\\anaconda3\\lib\\site-packages (from google-auth<2,>=1.6.3->tensorboard<3,>=2.3.0->tensorflow->keras-rl2) (4.7.2)\n",
      "Requirement already satisfied: cachetools<5.0,>=2.0.0 in c:\\programdata\\anaconda3\\lib\\site-packages (from google-auth<2,>=1.6.3->tensorboard<3,>=2.3.0->tensorflow->keras-rl2) (4.2.1)\n",
      "Requirement already satisfied: pyasn1-modules>=0.2.1 in c:\\programdata\\anaconda3\\lib\\site-packages (from google-auth<2,>=1.6.3->tensorboard<3,>=2.3.0->tensorflow->keras-rl2) (0.2.8)\n",
      "Requirement already satisfied: requests-oauthlib>=0.7.0 in c:\\programdata\\anaconda3\\lib\\site-packages (from google-auth-oauthlib<0.5,>=0.4.1->tensorboard<3,>=2.3.0->tensorflow->keras-rl2) (1.3.0)\n",
      "Requirement already satisfied: importlib-metadata in c:\\programdata\\anaconda3\\lib\\site-packages (from markdown>=2.6.8->tensorboard<3,>=2.3.0->tensorflow->keras-rl2) (3.7.3)\n",
      "Requirement already satisfied: pyasn1<0.5.0,>=0.4.6 in c:\\programdata\\anaconda3\\lib\\site-packages (from pyasn1-modules>=0.2.1->google-auth<2,>=1.6.3->tensorboard<3,>=2.3.0->tensorflow->keras-rl2) (0.4.8)\n",
      "Requirement already satisfied: idna<3,>=2.5 in c:\\programdata\\anaconda3\\lib\\site-packages (from requests<3,>=2.21.0->tensorboard<3,>=2.3.0->tensorflow->keras-rl2) (2.10)\n",
      "Requirement already satisfied: urllib3<1.27,>=1.21.1 in c:\\programdata\\anaconda3\\lib\\site-packages (from requests<3,>=2.21.0->tensorboard<3,>=2.3.0->tensorflow->keras-rl2) (1.26.4)\n",
      "Requirement already satisfied: certifi>=2017.4.17 in c:\\programdata\\anaconda3\\lib\\site-packages (from requests<3,>=2.21.0->tensorboard<3,>=2.3.0->tensorflow->keras-rl2) (2020.12.5)\n",
      "Requirement already satisfied: chardet<5,>=3.0.2 in c:\\programdata\\anaconda3\\lib\\site-packages (from requests<3,>=2.21.0->tensorboard<3,>=2.3.0->tensorflow->keras-rl2) (4.0.0)\n",
      "Requirement already satisfied: oauthlib>=3.0.0 in c:\\programdata\\anaconda3\\lib\\site-packages (from requests-oauthlib>=0.7.0->google-auth-oauthlib<0.5,>=0.4.1->tensorboard<3,>=2.3.0->tensorflow->keras-rl2) (3.1.0)\n",
      "Requirement already satisfied: zipp>=0.5 in c:\\programdata\\anaconda3\\lib\\site-packages (from importlib-metadata->markdown>=2.6.8->tensorboard<3,>=2.3.0->tensorflow->keras-rl2) (3.4.1)\n",
      "Requirement already satisfied: typing-extensions>=3.6.4 in c:\\programdata\\anaconda3\\lib\\site-packages (from importlib-metadata->markdown>=2.6.8->tensorboard<3,>=2.3.0->tensorflow->keras-rl2) (3.7.4.3)\n"
     ]
    }
   ],
   "source": [
    "!pip install tensorflow==2.3.0 --user\n",
    "!pip install gym\n",
    "!pip install keras\n",
    "!pip install keras-rl2"
   ]
  },
  {
   "cell_type": "markdown",
   "id": "noble-arctic",
   "metadata": {},
   "source": [
    "# 1. Test Random Environment with OpenAI Gym"
   ]
  },
  {
   "cell_type": "code",
   "execution_count": 2,
   "id": "virtual-syndrome",
   "metadata": {},
   "outputs": [],
   "source": [
    "import gym\n",
    "import random\n",
    "import custom_cartpole"
   ]
  },
  {
   "cell_type": "code",
   "execution_count": 3,
   "id": "ultimate-width",
   "metadata": {},
   "outputs": [],
   "source": [
    "env = gym.make('CustomCartPole-v0')\n",
    "states = env.observation_space.shape[0]\n",
    "actions = env.action_space.n"
   ]
  },
  {
   "cell_type": "code",
   "execution_count": 4,
   "id": "interesting-aurora",
   "metadata": {},
   "outputs": [
    {
     "data": {
      "text/plain": [
       "4"
      ]
     },
     "execution_count": 4,
     "metadata": {},
     "output_type": "execute_result"
    }
   ],
   "source": [
    "states"
   ]
  },
  {
   "cell_type": "code",
   "execution_count": 5,
   "id": "fabulous-nicaragua",
   "metadata": {},
   "outputs": [
    {
     "data": {
      "text/plain": [
       "2"
      ]
     },
     "execution_count": 5,
     "metadata": {},
     "output_type": "execute_result"
    }
   ],
   "source": [
    "actions"
   ]
  },
  {
   "cell_type": "code",
   "execution_count": 6,
   "id": "transsexual-ethiopia",
   "metadata": {},
   "outputs": [
    {
     "name": "stdout",
     "output_type": "stream",
     "text": [
      "Episode:1 Score:16.0\n",
      "Episode:2 Score:12.0\n",
      "Episode:3 Score:25.0\n",
      "Episode:4 Score:17.0\n",
      "Episode:5 Score:41.0\n",
      "Episode:6 Score:16.0\n",
      "Episode:7 Score:14.0\n",
      "Episode:8 Score:19.0\n",
      "Episode:9 Score:45.0\n",
      "Episode:10 Score:13.0\n"
     ]
    }
   ],
   "source": [
    "episodes = 10\n",
    "for episode in range (1, episodes+1):\n",
    "    state = env.reset()\n",
    "    done = False\n",
    "    score = 0\n",
    "    \n",
    "    while not done:\n",
    "        env.render()\n",
    "        action = random.choice([0,1])\n",
    "        n_state, reward, done, info = env.step(action)\n",
    "        score += reward\n",
    "    print('Episode:{} Score:{}'.format(episode, score))\n",
    "\n",
    "env.close()"
   ]
  },
  {
   "cell_type": "markdown",
   "id": "czech-store",
   "metadata": {},
   "source": [
    "# 2. Create a Deep Learning Model with Keras"
   ]
  },
  {
   "cell_type": "code",
   "execution_count": 23,
   "id": "powerful-underwear",
   "metadata": {},
   "outputs": [],
   "source": [
    "import numpy as np\n",
    "from tensorflow.keras.models import Sequential\n",
    "from tensorflow.keras.layers import Dense, Flatten\n",
    "from tensorflow.keras.optimizers import Adam"
   ]
  },
  {
   "cell_type": "code",
   "execution_count": 24,
   "id": "ongoing-empty",
   "metadata": {},
   "outputs": [],
   "source": [
    "def build_model (states, actions):\n",
    "    model = Sequential()\n",
    "    model.add(Flatten(input_shape=(1,states)))\n",
    "    model.add(Dense(24, activation = 'relu'))\n",
    "    model.add(Dense(24, activation = 'relu'))\n",
    "    model.add(Dense(actions, activation='linear'))\n",
    "    return model"
   ]
  },
  {
   "cell_type": "code",
   "execution_count": 25,
   "id": "indirect-mediterranean",
   "metadata": {},
   "outputs": [],
   "source": [
    "model = build_model(states, actions)"
   ]
  },
  {
   "cell_type": "code",
   "execution_count": 26,
   "id": "theoretical-narrative",
   "metadata": {},
   "outputs": [
    {
     "name": "stdout",
     "output_type": "stream",
     "text": [
      "Model: \"sequential_1\"\n",
      "_________________________________________________________________\n",
      "Layer (type)                 Output Shape              Param #   \n",
      "=================================================================\n",
      "flatten_1 (Flatten)          (None, 4)                 0         \n",
      "_________________________________________________________________\n",
      "dense_3 (Dense)              (None, 24)                120       \n",
      "_________________________________________________________________\n",
      "dense_4 (Dense)              (None, 24)                600       \n",
      "_________________________________________________________________\n",
      "dense_5 (Dense)              (None, 2)                 50        \n",
      "=================================================================\n",
      "Total params: 770\n",
      "Trainable params: 770\n",
      "Non-trainable params: 0\n",
      "_________________________________________________________________\n"
     ]
    }
   ],
   "source": [
    "model.summary()"
   ]
  },
  {
   "cell_type": "markdown",
   "id": "secondary-stationery",
   "metadata": {},
   "source": [
    "# 3.Build Agent with Keras-RL"
   ]
  },
  {
   "cell_type": "code",
   "execution_count": 27,
   "id": "listed-prompt",
   "metadata": {},
   "outputs": [],
   "source": [
    "from rl.agents import DQNAgent\n",
    "from rl.policy import BoltzmannQPolicy\n",
    "from rl.memory import SequentialMemory"
   ]
  },
  {
   "cell_type": "code",
   "execution_count": 28,
   "id": "committed-cigarette",
   "metadata": {},
   "outputs": [],
   "source": [
    "def build_agent(model, actions):\n",
    "    policy = BoltzmannQPolicy()\n",
    "    memory = SequentialMemory(limit=50000, window_length=1)\n",
    "    dqn = DQNAgent(model=model, memory=memory, policy=policy, \n",
    "                  nb_actions=actions, nb_steps_warmup=10, target_model_update=1e-2)\n",
    "    return dqn"
   ]
  },
  {
   "cell_type": "code",
   "execution_count": 29,
   "id": "exact-greek",
   "metadata": {},
   "outputs": [
    {
     "name": "stdout",
     "output_type": "stream",
     "text": [
      "Training for 50000 steps ...\n",
      "Interval 1 (0 steps performed)\n",
      "WARNING:tensorflow:From C:\\Users\\Hilbert Ng\\AppData\\Roaming\\Python\\Python37\\site-packages\\tensorflow\\python\\keras\\engine\\training_v1.py:2070: Model.state_updates (from tensorflow.python.keras.engine.training) is deprecated and will be removed in a future version.\n",
      "Instructions for updating:\n",
      "This property should not be used in TensorFlow 2.0, as updates are applied automatically.\n",
      "    1/10000 [..............................] - ETA: 12:05 - reward: 1.0000"
     ]
    },
    {
     "name": "stderr",
     "output_type": "stream",
     "text": [
      "C:\\ProgramData\\Anaconda3\\lib\\site-packages\\rl\\memory.py:37: UserWarning: Not enough entries to sample without replacement. Consider increasing your warm-up phase to avoid oversampling!\n",
      "  warnings.warn('Not enough entries to sample without replacement. Consider increasing your warm-up phase to avoid oversampling!')\n"
     ]
    },
    {
     "name": "stdout",
     "output_type": "stream",
     "text": [
      "10000/10000 [==============================] - 64s 6ms/step - reward: 1.0000: - ETA: 0s - r\n",
      "95 episodes - episode_reward: 103.853 [9.000, 200.000] - loss: 2.396 - mae: 19.769 - mean_q: 40.134\n",
      "\n",
      "Interval 2 (10000 steps performed)\n",
      "10000/10000 [==============================] - 68s 7ms/step - reward: 1.0000\n",
      "51 episodes - episode_reward: 198.451 [178.000, 200.000] - loss: 3.905 - mae: 39.559 - mean_q: 80.004\n",
      "\n",
      "Interval 3 (20000 steps performed)\n",
      "10000/10000 [==============================] - 74s 7ms/step - reward: 1.0000\n",
      "50 episodes - episode_reward: 200.000 [200.000, 200.000] - loss: 3.332 - mae: 41.042 - mean_q: 82.657\n",
      "\n",
      "Interval 4 (30000 steps performed)\n",
      "10000/10000 [==============================] - 86s 9ms/step - reward: 1.0000\n",
      "50 episodes - episode_reward: 199.420 [187.000, 200.000] - loss: 4.389 - mae: 39.767 - mean_q: 79.823\n",
      "\n",
      "Interval 5 (40000 steps performed)\n",
      "10000/10000 [==============================] - 72s 7ms/step - reward: 1.0000\n",
      "done, took 363.388 seconds\n"
     ]
    },
    {
     "data": {
      "text/plain": [
       "<tensorflow.python.keras.callbacks.History at 0x1fc92995e08>"
      ]
     },
     "execution_count": 29,
     "metadata": {},
     "output_type": "execute_result"
    }
   ],
   "source": [
    "dqn = build_agent(model, actions)\n",
    "dqn.compile(Adam(lr=1e-3), metrics=['mae'])\n",
    "dqn.fit(env, nb_steps=50000, visualize=False, verbose=1)"
   ]
  },
  {
   "cell_type": "code",
   "execution_count": 30,
   "id": "severe-understanding",
   "metadata": {},
   "outputs": [
    {
     "name": "stdout",
     "output_type": "stream",
     "text": [
      "Testing for 100 episodes ...\n",
      "Episode 1: reward: 134.000, steps: 134\n",
      "Episode 2: reward: 142.000, steps: 142\n",
      "Episode 3: reward: 146.000, steps: 146\n",
      "Episode 4: reward: 156.000, steps: 156\n",
      "Episode 5: reward: 140.000, steps: 140\n",
      "Episode 6: reward: 138.000, steps: 138\n",
      "Episode 7: reward: 132.000, steps: 132\n",
      "Episode 8: reward: 146.000, steps: 146\n",
      "Episode 9: reward: 164.000, steps: 164\n",
      "Episode 10: reward: 146.000, steps: 146\n",
      "Episode 11: reward: 156.000, steps: 156\n",
      "Episode 12: reward: 176.000, steps: 176\n",
      "Episode 13: reward: 140.000, steps: 140\n",
      "Episode 14: reward: 172.000, steps: 172\n",
      "Episode 15: reward: 166.000, steps: 166\n",
      "Episode 16: reward: 152.000, steps: 152\n",
      "Episode 17: reward: 168.000, steps: 168\n",
      "Episode 18: reward: 158.000, steps: 158\n",
      "Episode 19: reward: 178.000, steps: 178\n",
      "Episode 20: reward: 160.000, steps: 160\n",
      "Episode 21: reward: 150.000, steps: 150\n",
      "Episode 22: reward: 138.000, steps: 138\n",
      "Episode 23: reward: 138.000, steps: 138\n",
      "Episode 24: reward: 142.000, steps: 142\n",
      "Episode 25: reward: 158.000, steps: 158\n",
      "Episode 26: reward: 150.000, steps: 150\n",
      "Episode 27: reward: 166.000, steps: 166\n",
      "Episode 28: reward: 130.000, steps: 130\n",
      "Episode 29: reward: 144.000, steps: 144\n",
      "Episode 30: reward: 152.000, steps: 152\n",
      "Episode 31: reward: 164.000, steps: 164\n",
      "Episode 32: reward: 146.000, steps: 146\n",
      "Episode 33: reward: 142.000, steps: 142\n",
      "Episode 34: reward: 136.000, steps: 136\n",
      "Episode 35: reward: 170.000, steps: 170\n",
      "Episode 36: reward: 168.000, steps: 168\n",
      "Episode 37: reward: 148.000, steps: 148\n",
      "Episode 38: reward: 136.000, steps: 136\n",
      "Episode 39: reward: 140.000, steps: 140\n",
      "Episode 40: reward: 134.000, steps: 134\n",
      "Episode 41: reward: 152.000, steps: 152\n",
      "Episode 42: reward: 152.000, steps: 152\n",
      "Episode 43: reward: 148.000, steps: 148\n",
      "Episode 44: reward: 150.000, steps: 150\n",
      "Episode 45: reward: 172.000, steps: 172\n",
      "Episode 46: reward: 136.000, steps: 136\n",
      "Episode 47: reward: 154.000, steps: 154\n",
      "Episode 48: reward: 146.000, steps: 146\n",
      "Episode 49: reward: 134.000, steps: 134\n",
      "Episode 50: reward: 160.000, steps: 160\n",
      "Episode 51: reward: 142.000, steps: 142\n",
      "Episode 52: reward: 152.000, steps: 152\n",
      "Episode 53: reward: 150.000, steps: 150\n",
      "Episode 54: reward: 158.000, steps: 158\n",
      "Episode 55: reward: 134.000, steps: 134\n",
      "Episode 56: reward: 154.000, steps: 154\n",
      "Episode 57: reward: 148.000, steps: 148\n",
      "Episode 58: reward: 146.000, steps: 146\n",
      "Episode 59: reward: 144.000, steps: 144\n",
      "Episode 60: reward: 156.000, steps: 156\n",
      "Episode 61: reward: 152.000, steps: 152\n",
      "Episode 62: reward: 146.000, steps: 146\n",
      "Episode 63: reward: 166.000, steps: 166\n",
      "Episode 64: reward: 166.000, steps: 166\n",
      "Episode 65: reward: 146.000, steps: 146\n",
      "Episode 66: reward: 156.000, steps: 156\n",
      "Episode 67: reward: 158.000, steps: 158\n",
      "Episode 68: reward: 158.000, steps: 158\n",
      "Episode 69: reward: 154.000, steps: 154\n",
      "Episode 70: reward: 150.000, steps: 150\n",
      "Episode 71: reward: 146.000, steps: 146\n",
      "Episode 72: reward: 148.000, steps: 148\n",
      "Episode 73: reward: 152.000, steps: 152\n",
      "Episode 74: reward: 142.000, steps: 142\n",
      "Episode 75: reward: 132.000, steps: 132\n",
      "Episode 76: reward: 162.000, steps: 162\n",
      "Episode 77: reward: 144.000, steps: 144\n",
      "Episode 78: reward: 162.000, steps: 162\n",
      "Episode 79: reward: 140.000, steps: 140\n",
      "Episode 80: reward: 158.000, steps: 158\n",
      "Episode 81: reward: 156.000, steps: 156\n",
      "Episode 82: reward: 184.000, steps: 184\n",
      "Episode 83: reward: 148.000, steps: 148\n",
      "Episode 84: reward: 144.000, steps: 144\n",
      "Episode 85: reward: 152.000, steps: 152\n",
      "Episode 86: reward: 164.000, steps: 164\n",
      "Episode 87: reward: 142.000, steps: 142\n",
      "Episode 88: reward: 156.000, steps: 156\n",
      "Episode 89: reward: 146.000, steps: 146\n",
      "Episode 90: reward: 144.000, steps: 144\n",
      "Episode 91: reward: 146.000, steps: 146\n",
      "Episode 92: reward: 158.000, steps: 158\n",
      "Episode 93: reward: 160.000, steps: 160\n",
      "Episode 94: reward: 144.000, steps: 144\n",
      "Episode 95: reward: 146.000, steps: 146\n",
      "Episode 96: reward: 142.000, steps: 142\n",
      "Episode 97: reward: 157.000, steps: 157\n",
      "Episode 98: reward: 150.000, steps: 150\n",
      "Episode 99: reward: 150.000, steps: 150\n",
      "Episode 100: reward: 158.000, steps: 158\n",
      "150.95\n"
     ]
    }
   ],
   "source": [
    "scores = dqn.test(env, nb_episodes=100, visualize=False)\n",
    "print(np.mean(scores.history['episode_reward']))"
   ]
  },
  {
   "cell_type": "code",
   "execution_count": 31,
   "id": "major-dayton",
   "metadata": {},
   "outputs": [
    {
     "name": "stdout",
     "output_type": "stream",
     "text": [
      "Testing for 5 episodes ...\n",
      "Episode 1: reward: 158.000, steps: 158\n",
      "Episode 2: reward: 140.000, steps: 140\n",
      "Episode 3: reward: 136.000, steps: 136\n",
      "Episode 4: reward: 142.000, steps: 142\n",
      "Episode 5: reward: 156.000, steps: 156\n"
     ]
    }
   ],
   "source": [
    "_ = dqn.test(env, nb_episodes=5, visualize=True)\n",
    "env.close()"
   ]
  },
  {
   "cell_type": "markdown",
   "id": "antique-cooler",
   "metadata": {},
   "source": [
    "# 4. Reloading Agent from Memory"
   ]
  },
  {
   "cell_type": "code",
   "execution_count": 32,
   "id": "sufficient-report",
   "metadata": {},
   "outputs": [],
   "source": [
    "dqn.save_weights('dqn_weights.h5f', overwrite=True)"
   ]
  },
  {
   "cell_type": "code",
   "execution_count": 33,
   "id": "square-mother",
   "metadata": {},
   "outputs": [],
   "source": [
    "del model\n",
    "del dqn\n",
    "del env"
   ]
  },
  {
   "cell_type": "code",
   "execution_count": 34,
   "id": "amateur-singer",
   "metadata": {},
   "outputs": [],
   "source": [
    "env = gym.make('CustomCartPole-v0')\n",
    "states = env.observation_space.shape[0]\n",
    "actions = env.action_space.n"
   ]
  },
  {
   "cell_type": "code",
   "execution_count": 35,
   "id": "latest-bracelet",
   "metadata": {},
   "outputs": [],
   "source": [
    "model = build_model(states, actions)\n",
    "dqn = build_agent(model, actions)\n",
    "dqn.compile(Adam(lr=1e-3), metrics=['mae'])"
   ]
  },
  {
   "cell_type": "code",
   "execution_count": 36,
   "id": "opposed-nickname",
   "metadata": {},
   "outputs": [],
   "source": [
    "dqn.load_weights('dqn_weights.h5f')"
   ]
  },
  {
   "cell_type": "code",
   "execution_count": 37,
   "id": "detailed-prototype",
   "metadata": {},
   "outputs": [
    {
     "name": "stdout",
     "output_type": "stream",
     "text": [
      "Testing for 5 episodes ...\n",
      "Episode 1: reward: 146.000, steps: 146\n",
      "Episode 2: reward: 172.000, steps: 172\n",
      "Episode 3: reward: 160.000, steps: 160\n",
      "Episode 4: reward: 144.000, steps: 144\n",
      "Episode 5: reward: 150.000, steps: 150\n"
     ]
    }
   ],
   "source": [
    "_ = dqn.test(env, nb_episodes=5, visualize=True)\n",
    "env.close()"
   ]
  },
  {
   "cell_type": "code",
   "execution_count": null,
   "id": "verbal-dutch",
   "metadata": {},
   "outputs": [],
   "source": []
  }
 ],
 "metadata": {
  "kernelspec": {
   "display_name": "Python 3",
   "language": "python",
   "name": "python3"
  },
  "language_info": {
   "codemirror_mode": {
    "name": "ipython",
    "version": 3
   },
   "file_extension": ".py",
   "mimetype": "text/x-python",
   "name": "python",
   "nbconvert_exporter": "python",
   "pygments_lexer": "ipython3",
   "version": "3.7.10"
  }
 },
 "nbformat": 4,
 "nbformat_minor": 5
}
